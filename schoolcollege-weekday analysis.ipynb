{
 "cells": [
  {
   "cell_type": "code",
   "execution_count": null,
   "metadata": {},
   "outputs": [],
   "source": [
    "import pandas as pd\n",
    "import pyodbc\n",
    "\n",
    "server = 'DESKTOP-REFQ1DM'\n",
    "db = 'parkingdata'\n",
    "\n",
    "conn = pyodbc.connect('DRIVER={SQL Server};SERVER=' + server + ';DATABASE=' + db + ';Trusted_Connection=yes')\n",
    "\n",
    "sql=\"\"\"select * from schoolcollegetb\"\"\"\n",
    "\n",
    "schoolcollegetb = pd.read_sql(sql, conn)\n",
    "schoolcollegetb"
   ]
  },
  {
   "cell_type": "code",
   "execution_count": 2,
   "metadata": {},
   "outputs": [],
   "source": [
    "df1= schoolcollegetb"
   ]
  },
  {
   "cell_type": "code",
   "execution_count": 3,
   "metadata": {},
   "outputs": [],
   "source": [
    "df1['date'] = [d.date() for d in df1['DateTimeStamp']]\n",
    "df1['time'] = [d.time() for d in df1['DateTimeStamp']]"
   ]
  },
  {
   "cell_type": "code",
   "execution_count": 4,
   "metadata": {},
   "outputs": [],
   "source": [
    "df1['date'] = pd.to_datetime(df1['date'])"
   ]
  },
  {
   "cell_type": "code",
   "execution_count": 5,
   "metadata": {},
   "outputs": [],
   "source": [
    "DayOfWeek={0:'Monday',1:'Tuesday',2:'Wednesday',3:'Thursday',4:'Friday',5:'Saturday',6:'Sunday'}\n",
    "df1['NameOfTheDay']=df1['date'].dt.dayofweek.map(DayOfWeek)"
   ]
  },
  {
   "cell_type": "code",
   "execution_count": 6,
   "metadata": {},
   "outputs": [
    {
     "data": {
      "text/html": [
       "<div>\n",
       "<style scoped>\n",
       "    .dataframe tbody tr th:only-of-type {\n",
       "        vertical-align: middle;\n",
       "    }\n",
       "\n",
       "    .dataframe tbody tr th {\n",
       "        vertical-align: top;\n",
       "    }\n",
       "\n",
       "    .dataframe thead th {\n",
       "        text-align: right;\n",
       "    }\n",
       "</style>\n",
       "<table border=\"1\" class=\"dataframe\">\n",
       "  <thead>\n",
       "    <tr style=\"text-align: right;\">\n",
       "      <th></th>\n",
       "      <th>PlaceId</th>\n",
       "      <th>DateTimeStamp</th>\n",
       "      <th>OccupancyPercent</th>\n",
       "      <th>date</th>\n",
       "      <th>time</th>\n",
       "      <th>NameOfTheDay</th>\n",
       "    </tr>\n",
       "  </thead>\n",
       "  <tbody>\n",
       "    <tr>\n",
       "      <th>0</th>\n",
       "      <td>4</td>\n",
       "      <td>2015-01-01 00:05:00</td>\n",
       "      <td>14.0</td>\n",
       "      <td>2015-01-01</td>\n",
       "      <td>00:05:00</td>\n",
       "      <td>Thursday</td>\n",
       "    </tr>\n",
       "    <tr>\n",
       "      <th>1</th>\n",
       "      <td>3</td>\n",
       "      <td>2015-01-01 00:10:00</td>\n",
       "      <td>14.0</td>\n",
       "      <td>2015-01-01</td>\n",
       "      <td>00:10:00</td>\n",
       "      <td>Thursday</td>\n",
       "    </tr>\n",
       "    <tr>\n",
       "      <th>2</th>\n",
       "      <td>4</td>\n",
       "      <td>2015-01-01 00:15:00</td>\n",
       "      <td>7.0</td>\n",
       "      <td>2015-01-01</td>\n",
       "      <td>00:15:00</td>\n",
       "      <td>Thursday</td>\n",
       "    </tr>\n",
       "    <tr>\n",
       "      <th>3</th>\n",
       "      <td>2</td>\n",
       "      <td>2015-01-01 00:20:00</td>\n",
       "      <td>14.0</td>\n",
       "      <td>2015-01-01</td>\n",
       "      <td>00:20:00</td>\n",
       "      <td>Thursday</td>\n",
       "    </tr>\n",
       "    <tr>\n",
       "      <th>4</th>\n",
       "      <td>2</td>\n",
       "      <td>2015-01-01 00:25:00</td>\n",
       "      <td>13.0</td>\n",
       "      <td>2015-01-01</td>\n",
       "      <td>00:25:00</td>\n",
       "      <td>Thursday</td>\n",
       "    </tr>\n",
       "    <tr>\n",
       "      <th>...</th>\n",
       "      <td>...</td>\n",
       "      <td>...</td>\n",
       "      <td>...</td>\n",
       "      <td>...</td>\n",
       "      <td>...</td>\n",
       "      <td>...</td>\n",
       "    </tr>\n",
       "    <tr>\n",
       "      <th>18140</th>\n",
       "      <td>3</td>\n",
       "      <td>2015-03-04 23:45:00</td>\n",
       "      <td>14.0</td>\n",
       "      <td>2015-03-04</td>\n",
       "      <td>23:45:00</td>\n",
       "      <td>Wednesday</td>\n",
       "    </tr>\n",
       "    <tr>\n",
       "      <th>18141</th>\n",
       "      <td>2</td>\n",
       "      <td>2015-03-04 23:50:00</td>\n",
       "      <td>8.0</td>\n",
       "      <td>2015-03-04</td>\n",
       "      <td>23:50:00</td>\n",
       "      <td>Wednesday</td>\n",
       "    </tr>\n",
       "    <tr>\n",
       "      <th>18142</th>\n",
       "      <td>3</td>\n",
       "      <td>2015-03-04 23:55:00</td>\n",
       "      <td>11.0</td>\n",
       "      <td>2015-03-04</td>\n",
       "      <td>23:55:00</td>\n",
       "      <td>Wednesday</td>\n",
       "    </tr>\n",
       "    <tr>\n",
       "      <th>18143</th>\n",
       "      <td>2</td>\n",
       "      <td>2015-03-05 00:00:00</td>\n",
       "      <td>15.0</td>\n",
       "      <td>2015-03-05</td>\n",
       "      <td>00:00:00</td>\n",
       "      <td>Thursday</td>\n",
       "    </tr>\n",
       "    <tr>\n",
       "      <th>18144</th>\n",
       "      <td>2</td>\n",
       "      <td>2015-03-05 00:05:00</td>\n",
       "      <td>14.0</td>\n",
       "      <td>2015-03-05</td>\n",
       "      <td>00:05:00</td>\n",
       "      <td>Thursday</td>\n",
       "    </tr>\n",
       "  </tbody>\n",
       "</table>\n",
       "<p>18145 rows × 6 columns</p>\n",
       "</div>"
      ],
      "text/plain": [
       "      PlaceId       DateTimeStamp  OccupancyPercent       date      time  \\\n",
       "0           4 2015-01-01 00:05:00              14.0 2015-01-01  00:05:00   \n",
       "1           3 2015-01-01 00:10:00              14.0 2015-01-01  00:10:00   \n",
       "2           4 2015-01-01 00:15:00               7.0 2015-01-01  00:15:00   \n",
       "3           2 2015-01-01 00:20:00              14.0 2015-01-01  00:20:00   \n",
       "4           2 2015-01-01 00:25:00              13.0 2015-01-01  00:25:00   \n",
       "...       ...                 ...               ...        ...       ...   \n",
       "18140       3 2015-03-04 23:45:00              14.0 2015-03-04  23:45:00   \n",
       "18141       2 2015-03-04 23:50:00               8.0 2015-03-04  23:50:00   \n",
       "18142       3 2015-03-04 23:55:00              11.0 2015-03-04  23:55:00   \n",
       "18143       2 2015-03-05 00:00:00              15.0 2015-03-05  00:00:00   \n",
       "18144       2 2015-03-05 00:05:00              14.0 2015-03-05  00:05:00   \n",
       "\n",
       "      NameOfTheDay  \n",
       "0         Thursday  \n",
       "1         Thursday  \n",
       "2         Thursday  \n",
       "3         Thursday  \n",
       "4         Thursday  \n",
       "...            ...  \n",
       "18140    Wednesday  \n",
       "18141    Wednesday  \n",
       "18142    Wednesday  \n",
       "18143     Thursday  \n",
       "18144     Thursday  \n",
       "\n",
       "[18145 rows x 6 columns]"
      ]
     },
     "execution_count": 6,
     "metadata": {},
     "output_type": "execute_result"
    }
   ],
   "source": [
    "df1"
   ]
  },
  {
   "cell_type": "code",
   "execution_count": 7,
   "metadata": {},
   "outputs": [],
   "source": [
    "daynumbering={'Monday':1,'Tuesday':2,'Wednesday':3,'Thursday':4,'Friday':5,'Saturday':6,'Sunday':7}\n",
    "df1['NumberingDay']=df1['NameOfTheDay'].map(daynumbering)\n",
    "\n",
    "df1['DayType']=df1.NumberingDay.apply(lambda x: 'Weekday'if (1<=x<=5) else 'weekend')\n",
    "\n",
    "#tdf1"
   ]
  },
  {
   "cell_type": "code",
   "execution_count": 8,
   "metadata": {},
   "outputs": [],
   "source": [
    "df1['HourOfDay'] = df1['DateTimeStamp'].dt.hour\n",
    "#tdf1"
   ]
  },
  {
   "cell_type": "code",
   "execution_count": null,
   "metadata": {},
   "outputs": [],
   "source": [
    "df1['Slots']=df1.HourOfDay.apply(lambda x:'S1' if (6<=x<=7) else ('S2' if (8<=x<=12) else ('S3' if (13<=x<=15) else ('S4' if (16<=x<=22) else ('S5' if (18<=x<=20) else ('S6' if (21<=x<=23) else ('S7' if (0<=x<=2) else ('S8'))))))))"
   ]
  }
 ],
 "metadata": {
  "kernelspec": {
   "display_name": "Python 3",
   "language": "python",
   "name": "python3"
  },
  "language_info": {
   "codemirror_mode": {
    "name": "ipython",
    "version": 3
   },
   "file_extension": ".py",
   "mimetype": "text/x-python",
   "name": "python",
   "nbconvert_exporter": "python",
   "pygments_lexer": "ipython3",
   "version": "3.7.0"
  }
 },
 "nbformat": 4,
 "nbformat_minor": 4
}
